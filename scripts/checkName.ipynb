{
 "cells": [
  {
   "cell_type": "markdown",
   "metadata": {},
   "source": [
    "# checkName\n",
    "\n",
    "checkName uses a database lookup to return SMILES, IUPAC name, or CAS registry ID given any one of those three as inputs"
   ]
  },
  {
   "cell_type": "code",
   "execution_count": 15,
   "metadata": {},
   "outputs": [],
   "source": [
    "###READ SMILES INTO PYCHEM AND CREATE DATAFRAME\n",
    "import pandas as pd\n",
    "salts=pd.read_csv('../salty/data/Viscosity.csv',delimiter=',')\n",
    "\n",
    "# create names and smiles of entire salt\n",
    "ILThermoName=pd.Series(salts['SMILE_cation'].str.cat(salts['SMILE_anion'], sep=','))\n",
    "saltName=pd.Series(salts['NAME_CAT'].str.cat(salts['NAME_ANI'], sep=','))\n",
    "old = pd.DataFrame()\n",
    "new = pd.DataFrame()\n",
    "\n",
    "for a, b in enumerate(salts['NAME_CAT']):   \n",
    "    #create empty arrays\n",
    "    catSMILES=[]\n",
    "    anSMILES=[]\n",
    "    nameSMILES=[]\n",
    "    nameCat=[]\n",
    "    nameAn=[]\n",
    "    name=[]\n",
    "    \n",
    "    #append the things we want\n",
    "    catSMILES.append(salts['SMILE_cation'][a])\n",
    "    anSMILES.append(salts['SMILE_anion'][a])\n",
    "    nameSMILES.append(ILThermoName[a])\n",
    "    nameCat.append(salts['NAME_CAT'][a])\n",
    "    nameAn.append(salts['NAME_ANI'][a])\n",
    "    name.append(saltName[a])\n",
    "    \n",
    "    #turn into dataframes\n",
    "    dfcatSMILES = pd.DataFrame(catSMILES)\n",
    "    dfanSMILES = pd.DataFrame(anSMILES)\n",
    "    dfnameSMILES = pd.DataFrame(nameSMILES)\n",
    "    dfnameCat = pd.DataFrame(nameCat)\n",
    "    dfnameAn = pd.DataFrame(nameAn)\n",
    "    dfname = pd.DataFrame(name)\n",
    "    \n",
    "    #rename headers\n",
    "    dfcatSMILES.rename(columns=lambda x: 'anion_SMILES', inplace=True) #rename headers (cation or anion)\n",
    "    dfanSMILES.rename(columns=lambda x: 'cation_SMILES', inplace=True)\n",
    "    dfnameSMILES.rename(columns=lambda x: 'salt_SMILES', inplace=True)\n",
    "    dfnameCat.rename(columns=lambda x: 'cation_name', inplace=True)\n",
    "    dfnameAn.rename(columns=lambda x: 'anion_name', inplace=True)\n",
    "    dfname.rename(columns=lambda x: 'salt_name', inplace=True)         \n",
    "    \n",
    "    #concatonate to master df\n",
    "    df = pd.concat([dfcatSMILES, dfanSMILES, dfnameSMILES, dfnameCat, dfnameAn, dfname], axis=1) #concatonate cationic and anionic descriptor df's\n",
    "    if a != 0: #grow the dataframe\n",
    "        new = pd.concat([df, old], axis=0)\n",
    "    old = new\n",
    "    "
   ]
  },
  {
   "cell_type": "code",
   "execution_count": 21,
   "metadata": {},
   "outputs": [
    {
     "data": {
      "text/plain": [
       "(38, 6)"
      ]
     },
     "execution_count": 21,
     "metadata": {},
     "output_type": "execute_result"
    }
   ],
   "source": [
    "df = old\n",
    "df.drop_duplicates(inplace=True)\n",
    "df.shape"
   ]
  }
 ],
 "metadata": {
  "kernelspec": {
   "display_name": "Python 2",
   "language": "python",
   "name": "python2"
  },
  "language_info": {
   "codemirror_mode": {
    "name": "ipython",
    "version": 2
   },
   "file_extension": ".py",
   "mimetype": "text/x-python",
   "name": "python",
   "nbconvert_exporter": "python",
   "pygments_lexer": "ipython2",
   "version": "2.7.13"
  }
 },
 "nbformat": 4,
 "nbformat_minor": 2
}
