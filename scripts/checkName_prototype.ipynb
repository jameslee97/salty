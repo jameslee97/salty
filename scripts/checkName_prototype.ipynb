{
 "cells": [
  {
   "cell_type": "code",
   "execution_count": 1,
   "metadata": {
    "collapsed": true
   },
   "outputs": [],
   "source": [
    "import pandas as pd\n",
    "import salty\n",
    "from selenium import webdriver\n",
    "import time\n",
    "import os\n",
    "from selenium import webdriver\n",
    "from selenium.common.exceptions import TimeoutException\n",
    "from selenium.webdriver.support.ui import WebDriverWait\n",
    "from selenium.webdriver.support import expected_conditions as EC\n",
    "from selenium.webdriver.common.by import By"
   ]
  },
  {
   "cell_type": "code",
   "execution_count": 6,
   "metadata": {
    "scrolled": true
   },
   "outputs": [
    {
     "name": "stdout",
     "output_type": "stream",
     "text": [
      "there are 281 unique cations in database\n",
      "28 ions have repeated name entries\n"
     ]
    }
   ],
   "source": [
    "df_cation = pd.read_csv('../salty/data/cationInfo.csv')\n",
    "unique_cations = len(df_cation.smiles.unique())\n",
    "message1 = \"there are %s unique cations in database\" % unique_cations\n",
    "print(message1)\n",
    "df = df_cation.groupby(\"smiles\").size().reset_index(name='count')\n",
    "df.sort_values('count', ascending=False)\n",
    "df = df.loc[df[\"count\"] != 1]\n",
    "repeat_cations = len(df.smiles)\n",
    "message2 = \"%s ions have repeated name entries\" %\\\n",
    "    repeat_cations\n",
    "print(message2)"
   ]
  },
  {
   "cell_type": "code",
   "execution_count": 23,
   "metadata": {},
   "outputs": [
    {
     "name": "stdout",
     "output_type": "stream",
     "text": [
      "there are 99 unique anions in database\n",
      "16 ions have repeated name entries\n"
     ]
    }
   ],
   "source": [
    "df_anion = pd.read_csv('../salty/data/anionInfo.csv')\n",
    "unique_anions = len(df_anion.smiles.unique())\n",
    "message1 = \"there are %s unique anions in database\" % unique_anions\n",
    "print(message1)\n",
    "df = df_anion.groupby(\"smiles\").size().reset_index(name='count')\n",
    "df.sort_values('count', ascending=False)\n",
    "df = df.loc[df[\"count\"] != 1]\n",
    "repeat_anions = len(df.smiles)\n",
    "message2 = \"%s ions have repeated name entries\" %\\\n",
    "    repeat_anions\n",
    "print(message2)"
   ]
  },
  {
   "cell_type": "code",
   "execution_count": 906,
   "metadata": {},
   "outputs": [
    {
     "data": {
      "text/plain": [
       "313"
      ]
     },
     "execution_count": 906,
     "metadata": {},
     "output_type": "execute_result"
    }
   ],
   "source": [
    "###a hacky hack solution to cleaning raw ILThermo data\n",
    "df = pd.read_csv(\"../salty/data/viscosity_full.csv\")\n",
    "uniqueSalts = pd.DataFrame(df[\"salt_name\"].unique(), columns=[\"salts\"])\n",
    "salts = uniqueSalts\n",
    "anions=[]\n",
    "cations=[]\n",
    "for i in range(salts.shape[0]):\n",
    "    if len(salts['salts'].iloc[i].split()) == 2:\n",
    "        cations.append(salts['salts'].iloc[i].split()[0])\n",
    "        anions.append(salts['salts'].iloc[i].split()[1])\n",
    "    elif len(salts['salts'].iloc[i].split()) == 3:\n",
    "        #two word cation\n",
    "        if\"tris(2-hydroxyethyl) methylammonium\" in salts['salts'].iloc[i]:\n",
    "            first = salts['salts'].iloc[i].split()[0]\n",
    "            second = salts['salts'].iloc[i].split()[1]\n",
    "            anions.append(salts['salts'].iloc[i].split()[2])\n",
    "            cations.append(first + ' ' + second)\n",
    "            \n",
    "        #these strings have two word anions\n",
    "        elif(\"sulfate\" in salts['salts'].iloc[i] or\\\n",
    "        \"phosphate\" in salts['salts'].iloc[i] or\\\n",
    "        \"phosphonate\" in salts['salts'].iloc[i] or\\\n",
    "        \"carbonate\" in salts['salts'].iloc[i]):\n",
    "            first = salts['salts'].iloc[i].split()[1]\n",
    "            second = salts['salts'].iloc[i].split()[2]\n",
    "            cations.append(salts['salts'].iloc[i].split()[0])\n",
    "            anions.append(first + ' ' + second)\n",
    "        elif(\"bis(trifluoromethylsulfonyl)imide\" in salts['salts'].iloc[i]): \n",
    "            #this string contains 2 word cations\n",
    "            first = salts['salts'].iloc[i].split()[0]\n",
    "            second = salts['salts'].iloc[i].split()[1]\n",
    "            third = salts['salts'].iloc[i].split()[2]\n",
    "            cations.append(first + ' ' + second)\n",
    "            anions.append(third)\n",
    "        else:\n",
    "            print(salts['salts'].iloc[i])\n",
    "    elif len(salts['salts'].iloc[i].split()) == 4:\n",
    "        #this particular string block contains (1:1) at end of name\n",
    "        if(\"1,1,2,3,3,3-hexafluoro-1-propanesulfonate\" in salts['salts'].iloc[i]):\n",
    "            first = salts['salts'].iloc[i].split()[0]\n",
    "            second = salts['salts'].iloc[i].split()[1]\n",
    "            cations.append(first + ' ' + second)\n",
    "            anions.append(salts['salts'].iloc[i].split()[2])\n",
    "        else:\n",
    "            #and two word anion\n",
    "            first = salts['salts'].iloc[i].split()[1]\n",
    "            second = salts['salts'].iloc[i].split()[2]\n",
    "            anions.append(first + ' ' + second)\n",
    "            cations.append(salts['salts'].iloc[i].split()[0])\n",
    "    elif(\"2-aminoethanol-2-hydroxypropanoate\" in salts['salts'].iloc[i]):\n",
    "        #one of the ilthermo salts is missing a space between cation/anion\n",
    "        anions.append(\"2-hydroxypropanoate\")\n",
    "        cations.append(\"2-aminoethanol\")\n",
    "    elif len(salts['salts'].iloc[i].split()) == 5:\n",
    "        if(\"bis[(trifluoromethyl)sulfonyl]imide\" in salts['salts'].iloc[i]):\n",
    "            anions.append(\"bis(trifluoromethylsulfonyl)imide\")\n",
    "            first = salts['salts'].iloc[i].split()[0]\n",
    "            second = salts['salts'].iloc[i].split()[1]\n",
    "            third = salts['salts'].iloc[i].split()[2]\n",
    "            fourth = salts['salts'].iloc[i].split()[3]\n",
    "            cations.append(first + ' ' + second + ' ' + third + ' ' + fourth)\n",
    "        if(\"trifluoro(perfluoropropyl)borate\" in salts['salts'].iloc[i]):\n",
    "            anions.append(\"trifluoro(perfluoropropyl)borate\")\n",
    "            cations.append(\"N,N,N-triethyl-2-methoxyethan-1-aminium\")    \n",
    "    else:\n",
    "        print(salts['salts'].iloc[i])\n",
    "anions = pd.DataFrame(anions)\n",
    "anions = anions[0].unique()\n",
    "cations = pd.DataFrame(cations)\n",
    "cations = cations[0].unique()\n",
    "len(cations)"
   ]
  },
  {
   "cell_type": "code",
   "execution_count": 840,
   "metadata": {
    "collapsed": true
   },
   "outputs": [],
   "source": [
    "df = pd.read_csv(\"../salty/data/viscosity_full.csv\")\n",
    "driver = webdriver.Chrome()\n",
    "driver.get(\"http://www.chemspider.com/\")\n",
    "time.sleep(5)"
   ]
  },
  {
   "cell_type": "code",
   "execution_count": 841,
   "metadata": {
    "collapsed": true
   },
   "outputs": [
    {
     "ename": "KeyboardInterrupt",
     "evalue": "",
     "output_type": "error",
     "traceback": [
      "\u001b[0;31m---------------------------------------------------------------------------\u001b[0m",
      "\u001b[0;31mKeyboardInterrupt\u001b[0m                         Traceback (most recent call last)",
      "\u001b[0;32m<ipython-input-841-e580b96ee431>\u001b[0m in \u001b[0;36m<module>\u001b[0;34m()\u001b[0m\n\u001b[1;32m     17\u001b[0m             \u001b[0msubmit\u001b[0m\u001b[0;34m.\u001b[0m\u001b[0mclick\u001b[0m\u001b[0;34m(\u001b[0m\u001b[0;34m)\u001b[0m\u001b[0;34m\u001b[0m\u001b[0m\n\u001b[0;32m---> 18\u001b[0;31m             \u001b[0mtime\u001b[0m\u001b[0;34m.\u001b[0m\u001b[0msleep\u001b[0m\u001b[0;34m(\u001b[0m\u001b[0;36m5\u001b[0m\u001b[0;34m)\u001b[0m\u001b[0;34m\u001b[0m\u001b[0m\n\u001b[0m\u001b[1;32m     19\u001b[0m             \u001b[0;31m###try to get as a direct result\u001b[0m\u001b[0;34m\u001b[0m\u001b[0;34m\u001b[0m\u001b[0m\n",
      "\u001b[0;31mKeyboardInterrupt\u001b[0m: ",
      "\nDuring handling of the above exception, another exception occurred:\n",
      "\u001b[0;31mKeyboardInterrupt\u001b[0m                         Traceback (most recent call last)",
      "\u001b[0;32m<ipython-input-841-e580b96ee431>\u001b[0m in \u001b[0;36m<module>\u001b[0;34m()\u001b[0m\n\u001b[1;32m     55\u001b[0m                     \u001b[0mtime\u001b[0m\u001b[0;34m.\u001b[0m\u001b[0msleep\u001b[0m\u001b[0;34m(\u001b[0m\u001b[0;36m3\u001b[0m\u001b[0;34m)\u001b[0m\u001b[0;34m\u001b[0m\u001b[0m\n\u001b[1;32m     56\u001b[0m         \u001b[0;32mexcept\u001b[0m\u001b[0;34m:\u001b[0m\u001b[0;34m\u001b[0m\u001b[0m\n\u001b[0;32m---> 57\u001b[0;31m             \u001b[0mtime\u001b[0m\u001b[0;34m.\u001b[0m\u001b[0msleep\u001b[0m\u001b[0;34m(\u001b[0m\u001b[0;36m10\u001b[0m\u001b[0;34m)\u001b[0m\u001b[0;34m\u001b[0m\u001b[0m\n\u001b[0m\u001b[1;32m     58\u001b[0m             \u001b[0mprint\u001b[0m\u001b[0;34m(\u001b[0m\u001b[0;34m\"SMILES not found for %s\"\u001b[0m \u001b[0;34m%\u001b[0m \u001b[0mion\u001b[0m\u001b[0;34m)\u001b[0m\u001b[0;34m\u001b[0m\u001b[0m\n",
      "\u001b[0;31mKeyboardInterrupt\u001b[0m: "
     ]
    }
   ],
   "source": [
    "ions = cations\n",
    "#ions_smiles = []\n",
    "timeout = 15\n",
    "for i in range(len(ions)):\n",
    "    ion = ions[i]\n",
    "    ion_df = pd.read_csv(\"../salty/data/cationInfo.csv\") #cationInfo or anionInfo\n",
    "    if any(ion in s for s in ion_df.cation): #set to anion or cation depending on df\n",
    "        pass\n",
    "    elif any(ion in s for s in ions_smiles):\n",
    "        pass\n",
    "    else:\n",
    "        try:\n",
    "            search = driver.find_element_by_xpath(\"//*[@id=\\\"ctl00_ctl00_qs_query\\\"]\")\n",
    "            search.clear()\n",
    "            search.send_keys(ion)\n",
    "            submit = driver.find_element_by_xpath(\"//*[@id=\\\"ctl00_ctl00_search_btn\\\"]\")\n",
    "            submit.click()\n",
    "            time.sleep(5)\n",
    "            ###try to get as a direct result\n",
    "            try:\n",
    "                moreDetails = driver.find_element_by_xpath(\"//*[@id=\\\"ctl00\"\\\n",
    "                \"_ctl00_ContentSection_ContentPlaceHolder1_RecordViewDetails\"\\\n",
    "                \"_rptDetailsView_ctl00_structureHead\\\"]/div[2]/div/h2/a/span\")\n",
    "                moreDetails.click()\n",
    "                time.sleep(2)\n",
    "                smiles = driver.find_element_by_xpath(\"//*[@id=\\\"ctl00_ctl00\"\\\n",
    "                    \"_ContentSection_ContentPlaceHolder1_RecordViewDetails\"\\\n",
    "                    \"_rptDetailsView_ctl00_moreDetails_WrapControl2\\\"]\")\n",
    "                ions_smiles.append([ion, smiles.text])\n",
    "                print(ion, smiles.text, \"found as direct search return\")\n",
    "                time.sleep(3)\n",
    "            except:\n",
    "                ###try to get as the first of many results\n",
    "                try:\n",
    "                    firstSearchResult= driver.find_element_by_xpath(\"//*[@id=\\\"ctl00_\"\\\n",
    "                        \"ctl00_ContentSection_ContentPlaceHolder1_ResultViewControl1_grid\"\\\n",
    "                        \"_GridView1\\\"]/tbody/tr[1]/td[1]/a\")\n",
    "                    firstSearchResult.click()\n",
    "                    time.sleep(5)\n",
    "                    moreDetails = driver.find_element_by_xpath(\"//*[@id=\\\"ctl00\"\\\n",
    "                        \"_ctl00_ContentSection_ContentPlaceHolder1_RecordViewDetails\"\\\n",
    "                        \"_rptDetailsView_ctl00_structureHead\\\"]/div[2]/div/h2/a/span\")\n",
    "                    moreDetails.click()\n",
    "                    time.sleep(2)\n",
    "                    smiles = driver.find_element_by_xpath(\"//*[@id=\\\"ctl00_ctl00\"\\\n",
    "                        \"_ContentSection_ContentPlaceHolder1_RecordViewDetails\"\\\n",
    "                        \"_rptDetailsView_ctl00_moreDetails_WrapControl2\\\"]\")\n",
    "                    ions_smiles.append([ion, smiles.text])\n",
    "                    print(ion, smiles.text, \"found as first of many search returns\")\n",
    "                    time.sleep(3)\n",
    "                ###try to get as a partial match\n",
    "                except:\n",
    "                    partialMatch = driver.find_element_by_xpath(\"//*[@id=\\\"ctl00_ctl00_\"\\\n",
    "                        \"ContentSection_ContentPlaceHolder1_ResultViewControl1_ResultStatement\"\\\n",
    "                        \"Control1_plhMessage\\\"]/a\")\n",
    "                    partialMatch.click()\n",
    "                    time.sleep(6)\n",
    "                    firstSearchResult= driver.find_element_by_xpath(\"//*[@id=\\\"ctl00_\"\\\n",
    "                        \"ctl00_ContentSection_ContentPlaceHolder1_ResultViewControl1_grid\"\\\n",
    "                        \"_GridView1\\\"]/tbody/tr[1]/td[1]/a\")\n",
    "                    firstSearchResult.click()\n",
    "                    time.sleep(5)\n",
    "                    moreDetails = driver.find_element_by_xpath(\"//*[@id=\\\"ctl00\"\\\n",
    "                        \"_ctl00_ContentSection_ContentPlaceHolder1_RecordViewDetails\"\\\n",
    "                        \"_rptDetailsView_ctl00_structureHead\\\"]/div[2]/div/h2/a/span\")\n",
    "                    moreDetails.click()\n",
    "                    time.sleep(2)\n",
    "                    smiles = driver.find_element_by_xpath(\"//*[@id=\\\"ctl00_ctl00\"\\\n",
    "                        \"_ContentSection_ContentPlaceHolder1_RecordViewDetails\"\\\n",
    "                        \"_rptDetailsView_ctl00_moreDetails_WrapControl2\\\"]\")\n",
    "                    ions_smiles.append([ion, smiles.text])\n",
    "                    print(ion, smiles.text, \"found as first return of partial match\")\n",
    "                    time.sleep(3)\n",
    "        except:\n",
    "            time.sleep(10)\n",
    "            print(\"SMILES not found for %s\" % ion)"
   ]
  },
  {
   "cell_type": "code",
   "execution_count": 7,
   "metadata": {
    "collapsed": true,
    "scrolled": false
   },
   "outputs": [],
   "source": [
    "from rdkit.Chem import SanitizeMol as san\n",
    "from rdkit.Chem import MolFromSmiles as mol\n",
    "ion_df = pd.read_csv(\"../salty/data/anionInfo.csv\") #cationInfo or anionInfo\n",
    "ions = ion_df.smiles\n",
    "for i in range(len(ions)):\n",
    "    ion = ions[i]\n",
    "    try:\n",
    "        san(mol(ion))\n",
    "    except:\n",
    "        print(ion, i, ion_df.anion[i])\n",
    "    if \"-\" in ion:\n",
    "        pass\n",
    "    else:\n",
    "        print(ion, i, ion_df.anion[i])\n",
    "    if \".\" in ion:\n",
    "        print(ion, i, ion_df.anion[i]) "
   ]
  },
  {
   "cell_type": "code",
   "execution_count": 8,
   "metadata": {},
   "outputs": [
    {
     "name": "stdout",
     "output_type": "stream",
     "text": [
      "dicyanamide ion is missing charge\n"
     ]
    }
   ],
   "source": [
    "name = checkName(\"C(#N)[N-]C#N\")\n",
    "message = \"%s ion is missing charge\" % name\n",
    "print(message)"
   ]
  },
  {
   "cell_type": "code",
   "execution_count": 1161,
   "metadata": {
    "collapsed": true
   },
   "outputs": [],
   "source": [
    "ion_df.smiles[4] = \"C(#N)[N-]C#N\""
   ]
  },
  {
   "cell_type": "code",
   "execution_count": 1160,
   "metadata": {},
   "outputs": [
    {
     "name": "stderr",
     "output_type": "stream",
     "text": [
      "/home/wesley/anaconda3/envs/py36/lib/python3.6/site-packages/matplotlib/pyplot.py:524: RuntimeWarning: More than 20 figures have been opened. Figures created through the pyplot interface (`matplotlib.pyplot.figure`) are retained until explicitly closed and may consume too much memory. (To control this warning, see the rcParam `figure.max_open_warning`).\n",
      "  max_open_warning, RuntimeWarning)\n"
     ]
    },
    {
     "data": {
      "image/png": "[encoded data removed]",
      "text/plain": [
       "<matplotlib.figure.Figure at 0x7f7128dcdfd0>"
      ]
     },
     "execution_count": 1160,
     "metadata": {},
     "output_type": "execute_result"
    }
   ],
   "source": [
    "from rdkit.Chem import MolFromSmiles as mol\n",
    "from rdkit.Chem.Draw import MolToMPL as img\n",
    "img(mol(\"C(#N)[N-]C#N\"))"
   ]
  },
  {
   "cell_type": "code",
   "execution_count": 916,
   "metadata": {
    "collapsed": true
   },
   "outputs": [],
   "source": [
    "ion_df4 = pd.DataFrame(ions_smiles, columns=[\"cation\",\"smiles\"])\n",
    "ion_df5 = pd.read_csv(\"../salty/data/cationInfo.csv\")\n",
    "frames = [ion_df5, ion_df4]\n",
    "result = pd.concat(frames)\n",
    "result = result.drop_duplicates(subset=\"cation\")"
   ]
  },
  {
   "cell_type": "code",
   "execution_count": 18,
   "metadata": {
    "collapsed": true
   },
   "outputs": [],
   "source": [
    "ion_df = pd.read_csv(\"../salty/data/anionInfo.csv\")"
   ]
  },
  {
   "cell_type": "code",
   "execution_count": 19,
   "metadata": {
    "collapsed": true
   },
   "outputs": [],
   "source": [
    "ion_df.columns = [\"name\", \"smiles\"]"
   ]
  },
  {
   "cell_type": "code",
   "execution_count": 20,
   "metadata": {
    "collapsed": true
   },
   "outputs": [],
   "source": [
    "pd.DataFrame.to_csv(ion_df, path_or_buf=\"../salty/data/anionInfo.csv\", index=False)"
   ]
  },
  {
   "cell_type": "code",
   "execution_count": 902,
   "metadata": {
    "collapsed": true
   },
   "outputs": [],
   "source": [
    "ion_df3 = ion_df3.rename(index=str, columns={\"anion\": \"cation\"})\n"
   ]
  },
  {
   "cell_type": "code",
   "execution_count": 904,
   "metadata": {
    "collapsed": true
   },
   "outputs": [],
   "source": [
    "# ion_df3 = pd.read_csv(\"../salty/data/cationInfo_.csv\")\n",
    "# ion_df = pd.read_csv(\"../salty/data/cationInfo.csv\")\n",
    "frames = [ion_df3, ion_df]\n",
    "result = pd.concat(frames)\n",
    "pd.DataFrame.to_csv(result, path_or_buf=\"../salty/data/cationInfo.csv\", index=False)"
   ]
  },
  {
   "cell_type": "code",
   "execution_count": 41,
   "metadata": {},
   "outputs": [
    {
     "data": {
      "text/plain": [
       "559"
      ]
     },
     "execution_count": 41,
     "metadata": {},
     "output_type": "execute_result"
    }
   ],
   "source": [
    "df = pd.read_csv(\"../salty/data/viscosity_full.csv\")\n",
    "len(df[\"salt_name\"].unique())"
   ]
  }
 ],
 "metadata": {
  "kernelspec": {
   "display_name": "Python 3",
   "language": "python",
   "name": "python3"
  },
  "language_info": {
   "codemirror_mode": {
    "name": "ipython",
    "version": 3
   },
   "file_extension": ".py",
   "mimetype": "text/x-python",
   "name": "python",
   "nbconvert_exporter": "python",
   "pygments_lexer": "ipython3",
   "version": "3.6.1"
  }
 },
 "nbformat": 4,
 "nbformat_minor": 2
}
