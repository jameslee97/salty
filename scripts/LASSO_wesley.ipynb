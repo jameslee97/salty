{
 "cells": [
  {
   "cell_type": "code",
   "execution_count": 1,
   "metadata": {
    "collapsed": true
   },
   "outputs": [],
   "source": [
    "import numpy as np\n",
    "import matplotlib.pyplot as plt\n",
    "import numpy.linalg as LINA\n",
    "from sklearn.linear_model import Lasso\n",
    "\n",
    "%matplotlib inline\n",
    "\n",
    "plt.rc(\"figure\", facecolor=\"white\")\n",
    "\n",
    "params = {\n",
    "    'lines.markersize' : 10,\n",
    "    'axes.labelsize': 20,\n",
    "    'font.size': 20,\n",
    "    'legend.fontsize': 20,\n",
    "    'xtick.labelsize': 20,\n",
    "    'ytick.labelsize': 20,\n",
    "    'text.usetex': False,\n",
    "   }\n",
    "plt.rcParams.update(params)\n",
    "tableau20 = [(31, 119, 180), (174, 199, 232), (255, 127, 14), (255, 187, 120),    \n",
    "             (44, 160, 44), (152, 223, 138), (214, 39, 40), (255, 152, 150),    \n",
    "             (148, 103, 189), (197, 176, 213), (140, 86, 75), (196, 156, 148),    \n",
    "             (227, 119, 194), (247, 182, 210), (127, 127, 127), (199, 199, 199),    \n",
    "             (188, 189, 34), (219, 219, 141), (23, 190, 207), (158, 218, 229)]   \n",
    "\n",
    "# Scale the RGB values to the [0, 1] range, which is the format matplotlib accepts.    \n",
    "for i in range(len(tableau20)):    \n",
    "    r, g, b = tableau20[i]    \n",
    "    tableau20[i] = (r / 255., g / 255., b / 255.)   \n"
   ]
  },
  {
   "cell_type": "code",
   "execution_count": 2,
   "metadata": {},
   "outputs": [
    {
     "name": "stdout",
     "output_type": "stream",
     "text": [
      "(3659, 190)\n",
      "191\n"
     ]
    }
   ],
   "source": [
    "#load numpy data and Descripor list\n",
    "X = np.loadtxt('../salty/data/salts_with_descriptors')\n",
    "f = open('../salty/data/Deslist','r')\n",
    "Deslist = []\n",
    "for line in f:\n",
    "    Deslist.append(\"Cation %s \" % line.strip('\\n\\t'))\n",
    "f = open('../salty/data/Deslist','r')\n",
    "for line in f:\n",
    "    Deslist.append(\"Anion %s \" % line.strip('\\n\\t'))\n",
    "Deslist.append(\"Temperature\")\n",
    "Deslist.append(\"Pressure\")\n",
    "Deslist.append(\"Density\")\n",
    "\n",
    "X = X[~np.isnan(X).any(axis=1)]\n",
    "\n",
    "n = X.shape[0]\n",
    "d = X.shape[1]\n",
    "d -= 1\n",
    "print(n,d)\n",
    "print(len(Deslist))"
   ]
  },
  {
   "cell_type": "code",
   "execution_count": 3,
   "metadata": {},
   "outputs": [
    {
     "name": "stdout",
     "output_type": "stream",
     "text": [
      "(2927, 190)\n",
      "(732, 190)\n"
     ]
    }
   ],
   "source": [
    "n_train = int(n*0.8)\n",
    "n_test  = n - n_train\n",
    "X = np.random.permutation(X)\n",
    "\n",
    "X_train = np.zeros((n_train,d))\n",
    "X_test  = np.zeros((n_test,d))\n",
    "Y_train = np.zeros((n_train))\n",
    "Y_test = np.zeros((n_test))\n",
    "\n",
    "X_train[:] = X[:n_train,:-1]\n",
    "Y_train[:] = np.log(X[:n_train,-1])\n",
    "\n",
    "X_test[:] = X[n_train:,:-1]\n",
    "Y_test[:] = np.log(X[n_train:,-1])\n",
    "\n",
    "print(X_train.shape)\n",
    "print(X_test.shape)"
   ]
  },
  {
   "cell_type": "code",
   "execution_count": 4,
   "metadata": {},
   "outputs": [
    {
     "data": {
      "text/plain": [
       "Lasso(alpha=0.11, copy_X=True, fit_intercept=True, max_iter=1000,\n",
       "   normalize=False, positive=False, precompute=False, random_state=None,\n",
       "   selection='cyclic', tol=1e-10, warm_start=False)"
      ]
     },
     "execution_count": 4,
     "metadata": {},
     "output_type": "execute_result"
    }
   ],
   "source": [
    "model = Lasso(alpha=0.11,tol=1e-10)\n",
    "model.fit(X_train,Y_train)"
   ]
  },
  {
   "cell_type": "code",
   "execution_count": null,
   "metadata": {},
   "outputs": [
    {
     "name": "stdout",
     "output_type": "stream",
     "text": [
      "(98, 'Anion Ipc ')\n",
      "(102, 'Anion Kappa3 ')\n",
      "(184, 'Anion VSA_EState8 ')\n",
      "(188, 'Temperature')\n",
      "(189, 'Pressure')\n",
      "5\n"
     ]
    }
   ],
   "source": [
    "i=0\n",
    "for a in range(len(Deslist)-1):\n",
    "    if model.coef_[a] != 0:\n",
    "        print(a, Deslist[a])\n",
    "        i+=1\n",
    "print(i)"
   ]
  },
  {
   "cell_type": "code",
   "execution_count": null,
   "metadata": {
    "collapsed": true
   },
   "outputs": [],
   "source": [
    "with plt.style.context('seaborn-whitegrid'):\n",
    "    fig=plt.figure(figsize=(14,7), dpi=300)\n",
    "    ax = fig.add_subplot(121)\n",
    "    ax.plot(Y_train,model.predict(X_train),\"o\",color = \"pink\")\n",
    "    ax.plot(np.arange(-6,1,0.0001),np.arange(-6,1,0.0001),color = 'black')\n",
    "#     ax.axis([-6,1,-6,1])\n",
    "#     plt.xlim(-6,-1)\n",
    "#     plt.ylim(-6,-1)\n",
    "    plt.text(-2,-7,'Experimental value (log)')\n",
    "    plt.ylabel('Prediction (log)')\n",
    "    plt.title('Train')\n",
    "    plt.grid(False)\n",
    "    ax2 = fig.add_subplot(122)\n",
    "    ax2.plot(Y_test,model.predict(X_test),\"o\",color = \"pink\")\n",
    "    ax2.plot(np.arange(-6,1,0.0001),np.arange(-6,1,0.0001),color = 'black')\n",
    "#     ax2.axis([-6,1,-6,1])\n",
    "#     plt.xlim(-6,-1)\n",
    "#     plt.ylim(-6,-1)\n",
    "    plt.title('Test')\n",
    "    plt.grid(False)"
   ]
  },
  {
   "cell_type": "code",
   "execution_count": null,
   "metadata": {
    "collapsed": true
   },
   "outputs": [],
   "source": []
  }
 ],
 "metadata": {
  "kernelspec": {
   "display_name": "Python 2",
   "language": "python",
   "name": "python2"
  },
  "language_info": {
   "codemirror_mode": {
    "name": "ipython",
    "version": 2
   },
   "file_extension": ".py",
   "mimetype": "text/x-python",
   "name": "python",
   "nbconvert_exporter": "python",
   "pygments_lexer": "ipython2",
   "version": "2.7.13"
  }
 },
 "nbformat": 4,
 "nbformat_minor": 2
}
