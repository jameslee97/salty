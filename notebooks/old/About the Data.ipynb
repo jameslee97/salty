{
 "cells": [
  {
   "cell_type": "markdown",
   "metadata": {},
   "source": [
    "# An interactive data exploration tool for ionic liquid data from ILThermo (NIST) to guide intelligent solvent design\n",
    "\n",
    "![](../webapp/salty_web_app/collection/static/images/about_header.png)\n",
    "\n",
    "High performance computing (HPC) and open-source software revolutionize strategies for materials discovery by allowing the exploration of design spaces insurmountable by traditional research methods. This project establishes predictive tools and models for the publicly available ILThermo data distributed by the **National Institute of Science and Technology (NIST)**. In partnership with NIST, we leverage the immense amount of chemical and physical properties of ionic liquids (ILs) with data science and statistical methods **(RDKit, Scikit Learn)** to create publicly accessible data exploration and visualization tools. Specifically, via a built-in web application, site users are able to: 1) perform calculations of common statistical metrics, 2) generate machine learning models such as neural network (NN), least absolute shrinkage and selection operator (LASSO), and support vector machine (SVM) regression to make property predictions of unknown ionic liquids, and 3) have access to sophisticated visual representations of their data selection and methods of coefficient confidence estimation to ascertain the robustness of their models and sensitivity to the underlying data. "
   ]
  },
  {
   "cell_type": "markdown",
   "metadata": {},
   "source": [
    "# Key steps in data acquisition, feature generation and model training\n",
    "\n",
    "The following describes a general method of creating and selecting features and using them in sophisticated model training i.e. NN or SVM. The webapp provides an opportunity to experiment with the basic approach by selecting subsets of the underlying data, subsets of the features, and various hyperparameters of the models. \n",
    "\n",
    "NIST provided **31,326** experimental density measurements of ILs. We used RDKit to generate **194** physical and chemical descriptors of the cation and anion moieties and Least Absolute Shrinkage Selection Operator (LASSO) to assess the dependency of selected features on salt type.\n",
    "\n",
    "![](../webapp/salty_web_app/collection/static/images/density_hist.png)\n",
    "\n",
    "The most common use case for shuffle-split, cross validation, and bootstrap algorithms is for model coefficient confidence calculations. They can, however, also be used for model parameterization. In our development of the LASSO models, we used all three methods to systematically search for the optimum alpha value, the parameter that determines the number of features that are selected.\n",
    "\n",
    "![](../webapp/salty_web_app/collection/static/images/lasso_param.png)"
   ]
  },
  {
   "cell_type": "markdown",
   "metadata": {},
   "source": [
    "The LASSO model is then trained with the optimized lambda value on a random selection of the dataset\n",
    "\n",
    "![](../webapp/salty_web_app/collection/static/images/lasso_regression.png)"
   ]
  },
  {
   "cell_type": "markdown",
   "metadata": {},
   "source": [
    "LASSO is an excellent regression method for selecting features. Neural network (NN) models, however, typically have greater overall performance in their prediction accuracy due to their ability to select features and the networks they create. Therefore, for 1000 iterations we randomly created training and testing datasets, trained our LASSO models and used the top selected features to create NNs for the entire dataset and imidazolium subset. Histograms of the selected features are shown below. \n",
    "\n",
    "\n",
    "<img src=\"../webapp/salty_web_app/collection/static/images/features_hist.png\" style=\"width: 450px;\"/>"
   ]
  },
  {
   "cell_type": "markdown",
   "metadata": {},
   "source": [
    "Results from the NN regression are shown bellow "
   ]
  },
  {
   "cell_type": "markdown",
   "metadata": {},
   "source": [
    "<img src=\"../webapp/salty_web_app/collection/static/images/nn_regression.png\" style=\"width: 550px;\"/>"
   ]
  }
 ],
 "metadata": {
  "kernelspec": {
   "display_name": "Python 2",
   "language": "python",
   "name": "python2"
  },
  "language_info": {
   "codemirror_mode": {
    "name": "ipython",
    "version": 2
   },
   "file_extension": ".py",
   "mimetype": "text/x-python",
   "name": "python",
   "nbconvert_exporter": "python",
   "pygments_lexer": "ipython2",
   "version": "2.7.11"
  }
 },
 "nbformat": 4,
 "nbformat_minor": 0
}
